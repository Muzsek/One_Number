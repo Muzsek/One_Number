{
  "nbformat": 4,
  "nbformat_minor": 0,
  "metadata": {
    "colab": {
      "provenance": [],
      "authorship_tag": "ABX9TyOFlX9xNHbcEkf7tchU6ih3",
      "include_colab_link": true
    },
    "kernelspec": {
      "name": "python3",
      "display_name": "Python 3"
    },
    "language_info": {
      "name": "python"
    },
    "widgets": {
      "application/vnd.jupyter.widget-state+json": {
        "94f0cc7e6b974f55afcb1afb98760988": {
          "model_module": "@jupyter-widgets/controls",
          "model_name": "HBoxModel",
          "model_module_version": "1.5.0",
          "state": {
            "_dom_classes": [],
            "_model_module": "@jupyter-widgets/controls",
            "_model_module_version": "1.5.0",
            "_model_name": "HBoxModel",
            "_view_count": null,
            "_view_module": "@jupyter-widgets/controls",
            "_view_module_version": "1.5.0",
            "_view_name": "HBoxView",
            "box_style": "",
            "children": [
              "IPY_MODEL_2cabb13a83cf42e2ab34c3ac2281bf41",
              "IPY_MODEL_0d8a3319e8764136bffb5f3b9abfdd70",
              "IPY_MODEL_123f45297c234ee09c25d98e30147db3"
            ],
            "layout": "IPY_MODEL_2f4cd5ab9abe4beca7c119c4b85372be"
          }
        },
        "2cabb13a83cf42e2ab34c3ac2281bf41": {
          "model_module": "@jupyter-widgets/controls",
          "model_name": "HTMLModel",
          "model_module_version": "1.5.0",
          "state": {
            "_dom_classes": [],
            "_model_module": "@jupyter-widgets/controls",
            "_model_module_version": "1.5.0",
            "_model_name": "HTMLModel",
            "_view_count": null,
            "_view_module": "@jupyter-widgets/controls",
            "_view_module_version": "1.5.0",
            "_view_name": "HTMLView",
            "description": "",
            "description_tooltip": null,
            "layout": "IPY_MODEL_fd7956eb7e614898b0273ff7ce148b5a",
            "placeholder": "​",
            "style": "IPY_MODEL_605089984fe347a08fca20898a241de4",
            "value": "100%"
          }
        },
        "0d8a3319e8764136bffb5f3b9abfdd70": {
          "model_module": "@jupyter-widgets/controls",
          "model_name": "FloatProgressModel",
          "model_module_version": "1.5.0",
          "state": {
            "_dom_classes": [],
            "_model_module": "@jupyter-widgets/controls",
            "_model_module_version": "1.5.0",
            "_model_name": "FloatProgressModel",
            "_view_count": null,
            "_view_module": "@jupyter-widgets/controls",
            "_view_module_version": "1.5.0",
            "_view_name": "ProgressView",
            "bar_style": "success",
            "description": "",
            "description_tooltip": null,
            "layout": "IPY_MODEL_f9173872596743b5afdf0f1bc3db5077",
            "max": 3,
            "min": 0,
            "orientation": "horizontal",
            "style": "IPY_MODEL_737dfc452a274a6e81a159d63ae88d88",
            "value": 3
          }
        },
        "123f45297c234ee09c25d98e30147db3": {
          "model_module": "@jupyter-widgets/controls",
          "model_name": "HTMLModel",
          "model_module_version": "1.5.0",
          "state": {
            "_dom_classes": [],
            "_model_module": "@jupyter-widgets/controls",
            "_model_module_version": "1.5.0",
            "_model_name": "HTMLModel",
            "_view_count": null,
            "_view_module": "@jupyter-widgets/controls",
            "_view_module_version": "1.5.0",
            "_view_name": "HTMLView",
            "description": "",
            "description_tooltip": null,
            "layout": "IPY_MODEL_e9bd6a52157142379d28103bfbd32db6",
            "placeholder": "​",
            "style": "IPY_MODEL_6f284f4817a844ac8d0d4a8725770ce9",
            "value": " 3/3 [00:22&lt;00:00,  7.45s/it]"
          }
        },
        "2f4cd5ab9abe4beca7c119c4b85372be": {
          "model_module": "@jupyter-widgets/base",
          "model_name": "LayoutModel",
          "model_module_version": "1.2.0",
          "state": {
            "_model_module": "@jupyter-widgets/base",
            "_model_module_version": "1.2.0",
            "_model_name": "LayoutModel",
            "_view_count": null,
            "_view_module": "@jupyter-widgets/base",
            "_view_module_version": "1.2.0",
            "_view_name": "LayoutView",
            "align_content": null,
            "align_items": null,
            "align_self": null,
            "border": null,
            "bottom": null,
            "display": null,
            "flex": null,
            "flex_flow": null,
            "grid_area": null,
            "grid_auto_columns": null,
            "grid_auto_flow": null,
            "grid_auto_rows": null,
            "grid_column": null,
            "grid_gap": null,
            "grid_row": null,
            "grid_template_areas": null,
            "grid_template_columns": null,
            "grid_template_rows": null,
            "height": null,
            "justify_content": null,
            "justify_items": null,
            "left": null,
            "margin": null,
            "max_height": null,
            "max_width": null,
            "min_height": null,
            "min_width": null,
            "object_fit": null,
            "object_position": null,
            "order": null,
            "overflow": null,
            "overflow_x": null,
            "overflow_y": null,
            "padding": null,
            "right": null,
            "top": null,
            "visibility": null,
            "width": null
          }
        },
        "fd7956eb7e614898b0273ff7ce148b5a": {
          "model_module": "@jupyter-widgets/base",
          "model_name": "LayoutModel",
          "model_module_version": "1.2.0",
          "state": {
            "_model_module": "@jupyter-widgets/base",
            "_model_module_version": "1.2.0",
            "_model_name": "LayoutModel",
            "_view_count": null,
            "_view_module": "@jupyter-widgets/base",
            "_view_module_version": "1.2.0",
            "_view_name": "LayoutView",
            "align_content": null,
            "align_items": null,
            "align_self": null,
            "border": null,
            "bottom": null,
            "display": null,
            "flex": null,
            "flex_flow": null,
            "grid_area": null,
            "grid_auto_columns": null,
            "grid_auto_flow": null,
            "grid_auto_rows": null,
            "grid_column": null,
            "grid_gap": null,
            "grid_row": null,
            "grid_template_areas": null,
            "grid_template_columns": null,
            "grid_template_rows": null,
            "height": null,
            "justify_content": null,
            "justify_items": null,
            "left": null,
            "margin": null,
            "max_height": null,
            "max_width": null,
            "min_height": null,
            "min_width": null,
            "object_fit": null,
            "object_position": null,
            "order": null,
            "overflow": null,
            "overflow_x": null,
            "overflow_y": null,
            "padding": null,
            "right": null,
            "top": null,
            "visibility": null,
            "width": null
          }
        },
        "605089984fe347a08fca20898a241de4": {
          "model_module": "@jupyter-widgets/controls",
          "model_name": "DescriptionStyleModel",
          "model_module_version": "1.5.0",
          "state": {
            "_model_module": "@jupyter-widgets/controls",
            "_model_module_version": "1.5.0",
            "_model_name": "DescriptionStyleModel",
            "_view_count": null,
            "_view_module": "@jupyter-widgets/base",
            "_view_module_version": "1.2.0",
            "_view_name": "StyleView",
            "description_width": ""
          }
        },
        "f9173872596743b5afdf0f1bc3db5077": {
          "model_module": "@jupyter-widgets/base",
          "model_name": "LayoutModel",
          "model_module_version": "1.2.0",
          "state": {
            "_model_module": "@jupyter-widgets/base",
            "_model_module_version": "1.2.0",
            "_model_name": "LayoutModel",
            "_view_count": null,
            "_view_module": "@jupyter-widgets/base",
            "_view_module_version": "1.2.0",
            "_view_name": "LayoutView",
            "align_content": null,
            "align_items": null,
            "align_self": null,
            "border": null,
            "bottom": null,
            "display": null,
            "flex": null,
            "flex_flow": null,
            "grid_area": null,
            "grid_auto_columns": null,
            "grid_auto_flow": null,
            "grid_auto_rows": null,
            "grid_column": null,
            "grid_gap": null,
            "grid_row": null,
            "grid_template_areas": null,
            "grid_template_columns": null,
            "grid_template_rows": null,
            "height": null,
            "justify_content": null,
            "justify_items": null,
            "left": null,
            "margin": null,
            "max_height": null,
            "max_width": null,
            "min_height": null,
            "min_width": null,
            "object_fit": null,
            "object_position": null,
            "order": null,
            "overflow": null,
            "overflow_x": null,
            "overflow_y": null,
            "padding": null,
            "right": null,
            "top": null,
            "visibility": null,
            "width": null
          }
        },
        "737dfc452a274a6e81a159d63ae88d88": {
          "model_module": "@jupyter-widgets/controls",
          "model_name": "ProgressStyleModel",
          "model_module_version": "1.5.0",
          "state": {
            "_model_module": "@jupyter-widgets/controls",
            "_model_module_version": "1.5.0",
            "_model_name": "ProgressStyleModel",
            "_view_count": null,
            "_view_module": "@jupyter-widgets/base",
            "_view_module_version": "1.2.0",
            "_view_name": "StyleView",
            "bar_color": null,
            "description_width": ""
          }
        },
        "e9bd6a52157142379d28103bfbd32db6": {
          "model_module": "@jupyter-widgets/base",
          "model_name": "LayoutModel",
          "model_module_version": "1.2.0",
          "state": {
            "_model_module": "@jupyter-widgets/base",
            "_model_module_version": "1.2.0",
            "_model_name": "LayoutModel",
            "_view_count": null,
            "_view_module": "@jupyter-widgets/base",
            "_view_module_version": "1.2.0",
            "_view_name": "LayoutView",
            "align_content": null,
            "align_items": null,
            "align_self": null,
            "border": null,
            "bottom": null,
            "display": null,
            "flex": null,
            "flex_flow": null,
            "grid_area": null,
            "grid_auto_columns": null,
            "grid_auto_flow": null,
            "grid_auto_rows": null,
            "grid_column": null,
            "grid_gap": null,
            "grid_row": null,
            "grid_template_areas": null,
            "grid_template_columns": null,
            "grid_template_rows": null,
            "height": null,
            "justify_content": null,
            "justify_items": null,
            "left": null,
            "margin": null,
            "max_height": null,
            "max_width": null,
            "min_height": null,
            "min_width": null,
            "object_fit": null,
            "object_position": null,
            "order": null,
            "overflow": null,
            "overflow_x": null,
            "overflow_y": null,
            "padding": null,
            "right": null,
            "top": null,
            "visibility": null,
            "width": null
          }
        },
        "6f284f4817a844ac8d0d4a8725770ce9": {
          "model_module": "@jupyter-widgets/controls",
          "model_name": "DescriptionStyleModel",
          "model_module_version": "1.5.0",
          "state": {
            "_model_module": "@jupyter-widgets/controls",
            "_model_module_version": "1.5.0",
            "_model_name": "DescriptionStyleModel",
            "_view_count": null,
            "_view_module": "@jupyter-widgets/base",
            "_view_module_version": "1.2.0",
            "_view_name": "StyleView",
            "description_width": ""
          }
        }
      }
    }
  },
  "cells": [
    {
      "cell_type": "markdown",
      "metadata": {
        "id": "view-in-github",
        "colab_type": "text"
      },
      "source": [
        "<a href=\"https://colab.research.google.com/github/Muzsek/One_Number/blob/main/aO_N_AIO.ipynb\" target=\"_parent\"><img src=\"https://colab.research.google.com/assets/colab-badge.svg\" alt=\"Open In Colab\"/></a>"
      ]
    },
    {
      "cell_type": "code",
      "source": [
        "!pip install captcha"
      ],
      "metadata": {
        "colab": {
          "base_uri": "https://localhost:8080/"
        },
        "id": "3ogL78jFZdXS",
        "outputId": "99ec62db-752e-4fcc-b659-a969199be95d"
      },
      "execution_count": 1,
      "outputs": [
        {
          "output_type": "stream",
          "name": "stdout",
          "text": [
            "Collecting captcha\n",
            "  Downloading captcha-0.7.1-py3-none-any.whl.metadata (2.2 kB)\n",
            "Requirement already satisfied: Pillow in /usr/local/lib/python3.11/dist-packages (from captcha) (11.3.0)\n",
            "Downloading captcha-0.7.1-py3-none-any.whl (147 kB)\n",
            "\u001b[?25l   \u001b[90m━━━━━━━━━━━━━━━━━━━━━━━━━━━━━━━━━━━━━━━━\u001b[0m \u001b[32m0.0/147.6 kB\u001b[0m \u001b[31m?\u001b[0m eta \u001b[36m-:--:--\u001b[0m\r\u001b[2K   \u001b[90m━━━━━━━━━━━━━━━━━━━━━━━━━━━━━━━━━━━━━━━━\u001b[0m \u001b[32m147.6/147.6 kB\u001b[0m \u001b[31m9.8 MB/s\u001b[0m eta \u001b[36m0:00:00\u001b[0m\n",
            "\u001b[?25hInstalling collected packages: captcha\n",
            "Successfully installed captcha-0.7.1\n"
          ]
        }
      ]
    },
    {
      "cell_type": "code",
      "source": [
        "import string\n",
        "from captcha.image import ImageCaptcha\n",
        "import random\n",
        "import os\n",
        "from pathlib import Path\n",
        "from google.colab import drive\n",
        "from PIL import Image\n",
        "import matplotlib.pyplot as plt\n",
        "import torch\n",
        "from torchvision import transforms\n",
        "from torch.utils.data import Dataset\n",
        "from torch.utils.data import DataLoader\n",
        "from torch import nn"
      ],
      "metadata": {
        "id": "TSPCW7SB8p2D"
      },
      "execution_count": 2,
      "outputs": []
    },
    {
      "cell_type": "code",
      "source": [
        "drive.mount(\"/content/drive\")"
      ],
      "metadata": {
        "id": "EiYTR6dB8sj-",
        "colab": {
          "base_uri": "https://localhost:8080/"
        },
        "outputId": "731c1dfc-ebd8-4837-b627-74ef7a71c621"
      },
      "execution_count": 3,
      "outputs": [
        {
          "output_type": "stream",
          "name": "stdout",
          "text": [
            "Mounted at /content/drive\n"
          ]
        }
      ]
    },
    {
      "cell_type": "code",
      "execution_count": 4,
      "metadata": {
        "id": "u9oRw2y7Xbyw"
      },
      "outputs": [],
      "source": [
        "# !ls /content/drive/MyDrive/Colab/One\\ Number/\n",
        "dir_path = Path(\"/content/drive/MyDrive/Colab/One Number\")\n",
        "dir_path\n",
        "training_folder = dir_path / \"training\"\n",
        "testing_folder = dir_path / \"testing\"\n",
        "os.makedirs(training_folder, exist_ok = True)\n",
        "os.makedirs(testing_folder, exist_ok = True)"
      ]
    },
    {
      "cell_type": "markdown",
      "source": [
        "chars = string.digits\n",
        "\n",
        "img = ImageCaptcha(width = 120,\n",
        "                    height = 50)\n",
        "for i in range(int(1000*0.8)):\n",
        "  label = ''.join(random.choices(chars))\n",
        "  image = img.generate_image(label)\n",
        "  image.save(training_folder / f\"{label}_{i}.png\")\n",
        "\n",
        "for i in range(int(1000*0.2)):\n",
        "  label = ''.join(random.choices(chars))\n",
        "  image = img.generate_image(label)\n",
        "  image.save(testing_folder / f\"{label}_{i}.png\")\n",
        "print(f\"{len(os.listdir(os.path.join(training_folder)))} training images created\")\n",
        "print(f\"{len(os.listdir(os.path.join(testing_folder)))} testing images created\")"
      ],
      "metadata": {
        "id": "-TFbt9t0aECs"
      }
    },
    {
      "cell_type": "code",
      "source": [
        "#!rm -rf /content/drive/MyDrive/Colab/One Number/training/*\n",
        "#!rm -rf /content/drive/MyDrive/Colab/One Number/testing/*"
      ],
      "metadata": {
        "id": "tbjHSPftcrps"
      },
      "execution_count": 5,
      "outputs": []
    },
    {
      "cell_type": "markdown",
      "source": [],
      "metadata": {
        "id": "8ReEaQ3XeWvF"
      }
    },
    {
      "cell_type": "code",
      "source": [
        "print(len(os.listdir(training_folder)))\n",
        "print(f\"First 10 files: {os.listdir(training_folder)[:10]}\")\n",
        "print(len(os.listdir(testing_folder)))\n",
        "print(f\"First 10 files: {os.listdir(testing_folder)[:10]}\")"
      ],
      "metadata": {
        "colab": {
          "base_uri": "https://localhost:8080/"
        },
        "id": "POGc3JWjeBVl",
        "outputId": "af4cc4cc-8d82-45fd-b6d8-d1e7c7235cb4"
      },
      "execution_count": 6,
      "outputs": [
        {
          "output_type": "stream",
          "name": "stdout",
          "text": [
            "800\n",
            "First 10 files: ['4_0.png', '1_1.png', '5_2.png', '7_3.png', '9_4.png', '9_5.png', '3_6.png', '5_7.png', '3_8.png', '3_9.png']\n",
            "200\n",
            "First 10 files: ['4_0.png', '0_1.png', '6_2.png', '9_3.png', '2_4.png', '7_5.png', '4_6.png', '7_7.png', '3_8.png', '7_9.png']\n"
          ]
        }
      ]
    },
    {
      "cell_type": "code",
      "source": [
        "def ShowImage(image_path):\n",
        "  image = Image.open(image_path)\n",
        "  plt.imshow(image)\n",
        "  plt.axis(\"off\")\n",
        "  plt.show()"
      ],
      "metadata": {
        "id": "I1D3TrJnf8Oe"
      },
      "execution_count": 7,
      "outputs": []
    },
    {
      "cell_type": "code",
      "source": [
        "ShowImage(training_folder / os.listdir(training_folder)[3])\n",
        "ShowImage(testing_folder / os.listdir(testing_folder)[3])"
      ],
      "metadata": {
        "colab": {
          "base_uri": "https://localhost:8080/",
          "height": 469
        },
        "id": "bg179W2Xfie3",
        "outputId": "fe45d055-4880-470f-8381-7f74c8dab051"
      },
      "execution_count": 8,
      "outputs": [
        {
          "output_type": "display_data",
          "data": {
            "text/plain": [
              "<Figure size 640x480 with 1 Axes>"
            ],
            "image/png": "[encoded data removed]"
          },
          "metadata": {}
        },
        {
          "output_type": "display_data",
          "data": {
            "text/plain": [
              "<Figure size 640x480 with 1 Axes>"
            ],
            "image/png": "[encoded data removed]"
          },
          "metadata": {}
        }
      ]
    },
    {
      "cell_type": "code",
      "source": [
        "# Making the first_image form PIL to a tensor\n",
        "first_image = Image.open(training_folder / os.listdir(training_folder)[0])\n",
        "first_image.size"
      ],
      "metadata": {
        "colab": {
          "base_uri": "https://localhost:8080/"
        },
        "id": "mcfCwyA0f27l",
        "outputId": "6cc3776b-064a-46df-c168-f189b465889a"
      },
      "execution_count": 9,
      "outputs": [
        {
          "output_type": "execute_result",
          "data": {
            "text/plain": [
              "(120, 50)"
            ]
          },
          "metadata": {},
          "execution_count": 9
        }
      ]
    },
    {
      "cell_type": "code",
      "source": [
        "data_transform = transforms.Compose(\n",
        "    [\n",
        "        transforms.ToTensor()\n",
        "    ]\n",
        ")\n",
        "first_image_tensor = data_transform(first_image)\n",
        "first_image_tensor.shape"
      ],
      "metadata": {
        "colab": {
          "base_uri": "https://localhost:8080/"
        },
        "id": "sRM8bCMGjP91",
        "outputId": "e1df2b21-fad2-456d-cd2c-2a104b74e2eb"
      },
      "execution_count": 10,
      "outputs": [
        {
          "output_type": "execute_result",
          "data": {
            "text/plain": [
              "torch.Size([3, 50, 120])"
            ]
          },
          "metadata": {},
          "execution_count": 10
        }
      ]
    },
    {
      "cell_type": "code",
      "source": [
        "#os.listdir(training_folder)"
      ],
      "metadata": {
        "id": "4jgn4sUN_GHV"
      },
      "execution_count": 11,
      "outputs": []
    },
    {
      "cell_type": "code",
      "source": [
        "training_data = list(training_folder.glob(\"*.png\"))\n",
        "testing_data = list(testing_folder.glob(\"*.png\"))\n",
        "print(f\"{len(training_data)}\\n{len(testing_data)}\\n{training_data[:3]}\\n{testing_data[:3]}\")"
      ],
      "metadata": {
        "colab": {
          "base_uri": "https://localhost:8080/"
        },
        "id": "_Z9qAwDVFlAO",
        "outputId": "a4059574-1347-4ce2-9a99-97729bf4a2a8"
      },
      "execution_count": 12,
      "outputs": [
        {
          "output_type": "stream",
          "name": "stdout",
          "text": [
            "800\n",
            "200\n",
            "[PosixPath('/content/drive/MyDrive/Colab/One Number/training/4_0.png'), PosixPath('/content/drive/MyDrive/Colab/One Number/training/1_1.png'), PosixPath('/content/drive/MyDrive/Colab/One Number/training/5_2.png')]\n",
            "[PosixPath('/content/drive/MyDrive/Colab/One Number/testing/4_0.png'), PosixPath('/content/drive/MyDrive/Colab/One Number/testing/0_1.png'), PosixPath('/content/drive/MyDrive/Colab/One Number/testing/6_2.png')]\n"
          ]
        }
      ]
    },
    {
      "cell_type": "code",
      "source": [
        "class CustomDataset(Dataset):\n",
        "  def __init__(self,image_paths,transform):\n",
        "    self.image_paths = image_paths\n",
        "    self.transform = transform\n",
        "\n",
        "  def __len__(self):\n",
        "    return len(self.image_paths)\n",
        "\n",
        "  def __getitem__(self, index):\n",
        "    image_paths = self.image_paths[index]\n",
        "    image = Image.open(image_paths).convert('RGB')\n",
        "    label_str = image_paths.stem.split(\"_\")[0]\n",
        "    label = int(label_str)\n",
        "    return self.transform(image),label"
      ],
      "metadata": {
        "id": "hzlEGoZ_lB42"
      },
      "execution_count": 13,
      "outputs": []
    },
    {
      "cell_type": "code",
      "source": [
        "training_dataset = CustomDataset(training_data, transform = data_transform)\n",
        "testing_dataset = CustomDataset(testing_data, transform = data_transform)"
      ],
      "metadata": {
        "id": "6OrXIEeh_WKd"
      },
      "execution_count": 14,
      "outputs": []
    },
    {
      "cell_type": "code",
      "source": [
        "for _ in range(3):\n",
        "  print(training_dataset[_][1])\n",
        "print()\n",
        "for _ in range(3):\n",
        "  print(testing_dataset[_][1])"
      ],
      "metadata": {
        "colab": {
          "base_uri": "https://localhost:8080/"
        },
        "id": "TkLV4AI0J0dY",
        "outputId": "1061ef22-6a2e-4645-a794-cfae36907352"
      },
      "execution_count": 15,
      "outputs": [
        {
          "output_type": "stream",
          "name": "stdout",
          "text": [
            "4\n",
            "1\n",
            "5\n",
            "\n",
            "4\n",
            "0\n",
            "6\n"
          ]
        }
      ]
    },
    {
      "cell_type": "code",
      "source": [
        "training_loader = DataLoader(training_dataset, batch_size = 50, shuffle = True)\n",
        "testing_loader = DataLoader(testing_dataset, batch_size = 16, shuffle = False)"
      ],
      "metadata": {
        "id": "J4M0rQfZJ1yu"
      },
      "execution_count": 48,
      "outputs": []
    },
    {
      "cell_type": "code",
      "source": [
        "dl_test_images, dl_test_labels = next(iter(training_loader))\n",
        "print(dl_test_images.shape)\n",
        "print(dl_test_labels.shape)\n",
        "dl_test_images, dl_test_labels = next(iter(testing_loader))\n",
        "print(dl_test_images.shape)\n",
        "print(dl_test_labels.shape)"
      ],
      "metadata": {
        "id": "iQG7pubPKse-",
        "colab": {
          "base_uri": "https://localhost:8080/"
        },
        "outputId": "727442db-b4b9-414a-fac2-6410b90f2bba"
      },
      "execution_count": 17,
      "outputs": [
        {
          "output_type": "stream",
          "name": "stdout",
          "text": [
            "torch.Size([16, 3, 50, 120])\n",
            "torch.Size([16])\n",
            "torch.Size([16, 3, 50, 120])\n",
            "torch.Size([16])\n"
          ]
        }
      ]
    },
    {
      "cell_type": "code",
      "source": [
        "images, labels = next(iter(training_loader))\n",
        "print(\"Train label min/max:\", labels.min().item(), labels.max().item())\n",
        "images_t, labels_t = next(iter(testing_loader))\n",
        "print(\"Test label min/max:\", labels_t.min().item(), labels_t.max().item())"
      ],
      "metadata": {
        "colab": {
          "base_uri": "https://localhost:8080/"
        },
        "id": "AJScVBA8KyJz",
        "outputId": "2e28a08b-f704-49cf-e1de-4e1302c0d19e"
      },
      "execution_count": 18,
      "outputs": [
        {
          "output_type": "stream",
          "name": "stdout",
          "text": [
            "Train label min/max: 0 9\n",
            "Test label min/max: 0 9\n"
          ]
        }
      ]
    },
    {
      "cell_type": "code",
      "source": [
        "num_classes = 10\n",
        "num_classes"
      ],
      "metadata": {
        "colab": {
          "base_uri": "https://localhost:8080/"
        },
        "id": "Rn1UEtwrkzox",
        "outputId": "38ddab75-3c9b-4252-815d-39b53d970bd9"
      },
      "execution_count": 19,
      "outputs": [
        {
          "output_type": "execute_result",
          "data": {
            "text/plain": [
              "10"
            ]
          },
          "metadata": {},
          "execution_count": 19
        }
      ]
    },
    {
      "cell_type": "code",
      "source": [
        "class CNN(nn.Module):\n",
        "  def __init__(self, in_channels: int, out_channels: int,output_shape: int):\n",
        "    super().__init__()\n",
        "\n",
        "    self.block_1 = nn.Sequential(\n",
        "        nn.Conv2d(in_channels = in_channels,\n",
        "                  out_channels = out_channels,\n",
        "                  kernel_size = 3,\n",
        "                  padding = 1,\n",
        "                  stride = 1),\n",
        "        nn.ReLU(),\n",
        "        nn.Conv2d(in_channels = out_channels,\n",
        "                  out_channels = out_channels,\n",
        "                  kernel_size = 3,\n",
        "                  padding = 1,\n",
        "                  stride = 1),\n",
        "        nn.ReLU(),\n",
        "        nn.MaxPool2d(kernel_size = 2,\n",
        "                     stride = 2)\n",
        "    )\n",
        "    self.block_2 = nn.Sequential(\n",
        "        nn.Conv2d(out_channels, out_channels, kernel_size=3, padding=1),\n",
        "        nn.ReLU(),\n",
        "        nn.Conv2d(out_channels, out_channels, kernel_size=3, padding=1),\n",
        "        nn.ReLU(),\n",
        "        nn.MaxPool2d(2)\n",
        "      )\n",
        "    self.classifier = nn.Sequential(\n",
        "        nn.Flatten(),\n",
        "          # Where did this in_features shape come from?\n",
        "          # It's because each layer of our network compresses and changes the shape of our input data.\n",
        "        nn.Linear(in_features=out_channels*12*30,\n",
        "                  out_features=num_classes)\n",
        "      )\n",
        "  def forward(self, x: torch.Tensor):\n",
        "      x = self.block_1(x)\n",
        "      #print(x.shape)\n",
        "      x = self.block_2(x)\n",
        "      #print(x.shape)\n",
        "      x = self.classifier(x)\n",
        "      #print(x.shape)\n",
        "      return x\n",
        "\n",
        "\n",
        "model_0 = CNN(in_channels = 3,\n",
        "              out_channels = 10,\n",
        "              output_shape=num_classes)\n",
        "model_0"
      ],
      "metadata": {
        "colab": {
          "base_uri": "https://localhost:8080/"
        },
        "id": "KuDmVsfLLxdH",
        "outputId": "2a538bd9-2c9d-497a-b9de-911f7a920795"
      },
      "execution_count": 60,
      "outputs": [
        {
          "output_type": "execute_result",
          "data": {
            "text/plain": [
              "CNN(\n",
              "  (block_1): Sequential(\n",
              "    (0): Conv2d(3, 10, kernel_size=(3, 3), stride=(1, 1), padding=(1, 1))\n",
              "    (1): ReLU()\n",
              "    (2): Conv2d(10, 10, kernel_size=(3, 3), stride=(1, 1), padding=(1, 1))\n",
              "    (3): ReLU()\n",
              "    (4): MaxPool2d(kernel_size=2, stride=2, padding=0, dilation=1, ceil_mode=False)\n",
              "  )\n",
              "  (block_2): Sequential(\n",
              "    (0): Conv2d(10, 10, kernel_size=(3, 3), stride=(1, 1), padding=(1, 1))\n",
              "    (1): ReLU()\n",
              "    (2): Conv2d(10, 10, kernel_size=(3, 3), stride=(1, 1), padding=(1, 1))\n",
              "    (3): ReLU()\n",
              "    (4): MaxPool2d(kernel_size=2, stride=2, padding=0, dilation=1, ceil_mode=False)\n",
              "  )\n",
              "  (classifier): Sequential(\n",
              "    (0): Flatten(start_dim=1, end_dim=-1)\n",
              "    (1): Linear(in_features=3600, out_features=10, bias=True)\n",
              "  )\n",
              ")"
            ]
          },
          "metadata": {},
          "execution_count": 60
        }
      ]
    },
    {
      "cell_type": "code",
      "source": [
        "torch.manual_seed(3)\n",
        "device = \"cpu\"\n",
        "\n",
        "img_batch, label_batch = next(iter(training_loader))\n",
        "\n",
        "\n",
        "img_single, label_single = img_batch[0].unsqueeze(dim=0), label_batch[0]\n",
        "print(f\"Single image shape: {img_single.shape}\\n\")\n",
        "\n",
        "\n",
        "model_0.eval()\n",
        "with torch.inference_mode():\n",
        "    pred = model_0(img_single.to(device))\n",
        "\n",
        "print(f\"Output logits:\\n{pred}\\n\")\n",
        "print(f\"Output prediction probabilities:\\n{torch.softmax(pred, dim=1)}\\n\")\n",
        "print(f\"Output prediction label:\\n{torch.argmax(torch.softmax(pred, dim=1), dim=1)}\\n\")\n",
        "print(f\"Actual label:\\n{label_single}\")\n",
        "\n",
        "img = img_single.squeeze().permute(1,2,0)\n",
        "plt.imshow(img)\n",
        "plt.axis(\"off\")\n",
        "plt.show()"
      ],
      "metadata": {
        "colab": {
          "base_uri": "https://localhost:8080/",
          "height": 515
        },
        "id": "HWF6oJddZuTS",
        "outputId": "c2227cac-6c07-4fc4-85f8-6915425727a3"
      },
      "execution_count": 56,
      "outputs": [
        {
          "output_type": "stream",
          "name": "stdout",
          "text": [
            "Single image shape: torch.Size([1, 3, 50, 120])\n",
            "\n",
            "Output logits:\n",
            "tensor([[-0.0486,  0.0348,  0.0392,  0.0031, -0.0178, -0.0294,  0.0089,  0.0255,\n",
            "          0.0817, -0.0447]])\n",
            "\n",
            "Output prediction probabilities:\n",
            "tensor([[0.0947, 0.1029, 0.1034, 0.0997, 0.0976, 0.0965, 0.1003, 0.1020, 0.1079,\n",
            "         0.0951]])\n",
            "\n",
            "Output prediction label:\n",
            "tensor([8])\n",
            "\n",
            "Actual label:\n",
            "4\n"
          ]
        },
        {
          "output_type": "display_data",
          "data": {
            "text/plain": [
              "<Figure size 640x480 with 1 Axes>"
            ],
            "image/png": "[encoded data removed]"
          },
          "metadata": {}
        }
      ]
    },
    {
      "cell_type": "code",
      "source": [
        "loss_fn = nn.CrossEntropyLoss()\n",
        "optimizer = torch.optim.Adam(params = model_0.parameters(),\n",
        "                             lr = 0.001)\n",
        "def accuracy_fn(y_true, y_pred):\n",
        "    \"\"\"Calculates accuracy between truth labels and predictions.\n",
        "\n",
        "    Args:\n",
        "        y_true (torch.Tensor): Truth labels for predictions.\n",
        "        y_pred (torch.Tensor): Predictions to be compared to predictions.\n",
        "\n",
        "    Returns:\n",
        "        [torch.float]: Accuracy value between y_true and y_pred, e.g. 78.45\n",
        "    \"\"\"\n",
        "    correct = torch.eq(y_true, y_pred).sum().item()\n",
        "    acc = (correct / len(y_pred)) * 100\n",
        "    return acc"
      ],
      "metadata": {
        "id": "y03tgm6AnD7k"
      },
      "execution_count": 65,
      "outputs": []
    },
    {
      "cell_type": "code",
      "source": [
        "# Import tqdm for progress bar\n",
        "from tqdm.auto import tqdm\n",
        "\n",
        "# Set the seed and start the timer\n",
        "torch.manual_seed(42)\n",
        "\n",
        "# Set the number of epochs (we'll keep this small for faster training times)\n",
        "epochs = 3\n",
        "\n",
        "# Create training and testing loop\n",
        "for epoch in tqdm(range(epochs)):\n",
        "    print(f\"Epoch: {epoch}\\n-------\")\n",
        "    ### Training\n",
        "    train_loss = 0\n",
        "    # Add a loop to loop through training batches\n",
        "    for batch, (X, y) in enumerate(training_loader):\n",
        "        model_0.train()\n",
        "        # 1. Forward pass\n",
        "        y_pred = model_0(X)\n",
        "\n",
        "        # 2. Calculate loss (per batch)\n",
        "        loss = loss_fn(y_pred, y)\n",
        "        train_loss += loss # accumulatively add up the loss per epoch\n",
        "\n",
        "        # 3. Optimizer zero grad\n",
        "        optimizer.zero_grad()\n",
        "\n",
        "        # 4. Loss backward\n",
        "        loss.backward()\n",
        "\n",
        "        # 5. Optimizer step\n",
        "        optimizer.step()\n",
        "\n",
        "        # Print out how many samples have been seen\n",
        "        print(f\"Looked at {batch * len(X)}/{len(training_loader.dataset)} samples\")\n",
        "\n",
        "    # Divide total train loss by length of train dataloader (average loss per batch per epoch)\n",
        "    train_loss /= len(training_loader)\n",
        "\n",
        "    ### Testing\n",
        "    # Setup variables for accumulatively adding up loss and accuracy\n",
        "    test_loss, test_acc = 0, 0\n",
        "    model_0.eval()\n",
        "    with torch.inference_mode():\n",
        "        for X, y in testing_loader:\n",
        "            # 1. Forward pass\n",
        "            test_pred = model_0(X)\n",
        "\n",
        "            # 2. Calculate loss (accumulatively)\n",
        "            test_loss += loss_fn(test_pred, y) # accumulatively add up the loss per epoch\n",
        "\n",
        "            # 3. Calculate accuracy (preds need to be same as y_true)\n",
        "            test_acc += accuracy_fn(y_true=y, y_pred=test_pred.argmax(dim=1))\n",
        "\n",
        "        # Calculations on test metrics need to happen inside torch.inference_mode()\n",
        "        # Divide total test loss by length of test dataloader (per batch)\n",
        "        test_loss /= len(testing_loader)\n",
        "\n",
        "        # Divide total accuracy by length of test dataloader (per batch)\n",
        "        test_acc /= len(testing_loader)\n",
        "\n",
        "    ## Print out what's happening\n",
        "    print(f\"\\nTrain loss: {train_loss:.5f} | Test loss: {test_loss:.5f}, Test acc: {test_acc:.2f}%\\n\")"
      ],
      "metadata": {
        "colab": {
          "base_uri": "https://localhost:8080/",
          "height": 1000,
          "referenced_widgets": [
            "94f0cc7e6b974f55afcb1afb98760988",
            "2cabb13a83cf42e2ab34c3ac2281bf41",
            "0d8a3319e8764136bffb5f3b9abfdd70",
            "123f45297c234ee09c25d98e30147db3",
            "2f4cd5ab9abe4beca7c119c4b85372be",
            "fd7956eb7e614898b0273ff7ce148b5a",
            "605089984fe347a08fca20898a241de4",
            "f9173872596743b5afdf0f1bc3db5077",
            "737dfc452a274a6e81a159d63ae88d88",
            "e9bd6a52157142379d28103bfbd32db6",
            "6f284f4817a844ac8d0d4a8725770ce9"
          ]
        },
        "id": "uWyujuOqayiH",
        "outputId": "72a31a85-6fce-46ef-89c8-7b06736bbedf"
      },
      "execution_count": 76,
      "outputs": [
        {
          "output_type": "display_data",
          "data": {
            "text/plain": [
              "  0%|          | 0/3 [00:00<?, ?it/s]"
            ],
            "application/vnd.jupyter.widget-view+json": {
              "version_major": 2,
              "version_minor": 0,
              "model_id": "94f0cc7e6b974f55afcb1afb98760988"
            }
          },
          "metadata": {}
        },
        {
          "output_type": "stream",
          "name": "stdout",
          "text": [
            "Epoch: 0\n",
            "-------\n",
            "Looked at 0/800 samples\n",
            "Looked at 50/800 samples\n",
            "Looked at 100/800 samples\n",
            "Looked at 150/800 samples\n",
            "Looked at 200/800 samples\n",
            "Looked at 250/800 samples\n",
            "Looked at 300/800 samples\n",
            "Looked at 350/800 samples\n",
            "Looked at 400/800 samples\n",
            "Looked at 450/800 samples\n",
            "Looked at 500/800 samples\n",
            "Looked at 550/800 samples\n",
            "Looked at 600/800 samples\n",
            "Looked at 650/800 samples\n",
            "Looked at 700/800 samples\n",
            "Looked at 750/800 samples\n",
            "\n",
            "Train loss: 0.16216 | Test loss: 1.14883, Test acc: 70.19%\n",
            "\n",
            "Epoch: 1\n",
            "-------\n",
            "Looked at 0/800 samples\n",
            "Looked at 50/800 samples\n",
            "Looked at 100/800 samples\n",
            "Looked at 150/800 samples\n",
            "Looked at 200/800 samples\n",
            "Looked at 250/800 samples\n",
            "Looked at 300/800 samples\n",
            "Looked at 350/800 samples\n",
            "Looked at 400/800 samples\n",
            "Looked at 450/800 samples\n",
            "Looked at 500/800 samples\n",
            "Looked at 550/800 samples\n",
            "Looked at 600/800 samples\n",
            "Looked at 650/800 samples\n",
            "Looked at 700/800 samples\n",
            "Looked at 750/800 samples\n",
            "\n",
            "Train loss: 0.09600 | Test loss: 1.40700, Test acc: 69.71%\n",
            "\n",
            "Epoch: 2\n",
            "-------\n",
            "Looked at 0/800 samples\n",
            "Looked at 50/800 samples\n",
            "Looked at 100/800 samples\n",
            "Looked at 150/800 samples\n",
            "Looked at 200/800 samples\n",
            "Looked at 250/800 samples\n",
            "Looked at 300/800 samples\n",
            "Looked at 350/800 samples\n",
            "Looked at 400/800 samples\n",
            "Looked at 450/800 samples\n",
            "Looked at 500/800 samples\n",
            "Looked at 550/800 samples\n",
            "Looked at 600/800 samples\n",
            "Looked at 650/800 samples\n",
            "Looked at 700/800 samples\n",
            "Looked at 750/800 samples\n",
            "\n",
            "Train loss: 0.06227 | Test loss: 1.28459, Test acc: 71.15%\n",
            "\n"
          ]
        }
      ]
    },
    {
      "cell_type": "code",
      "source": [],
      "metadata": {
        "id": "qKBuY417bzj2"
      },
      "execution_count": null,
      "outputs": []
    }
  ]
}