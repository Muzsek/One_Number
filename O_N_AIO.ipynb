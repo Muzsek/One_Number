{
  "nbformat": 4,
  "nbformat_minor": 0,
  "metadata": {
    "colab": {
      "provenance": [],
      "authorship_tag": "ABX9TyPPj/zXSAZp1G/8ezuYtSdC",
      "include_colab_link": true
    },
    "kernelspec": {
      "name": "python3",
      "display_name": "Python 3"
    },
    "language_info": {
      "name": "python"
    }
  },
  "cells": [
    {
      "cell_type": "markdown",
      "metadata": {
        "id": "view-in-github",
        "colab_type": "text"
      },
      "source": [
        "<a href=\"https://colab.research.google.com/github/Muzsek/One_Numer/blob/main/O_N_AIO.ipynb\" target=\"_parent\"><img src=\"https://colab.research.google.com/assets/colab-badge.svg\" alt=\"Open In Colab\"/></a>"
      ]
    },
    {
      "cell_type": "code",
      "source": [
        "!pip install captcha"
      ],
      "metadata": {
        "colab": {
          "base_uri": "https://localhost:8080/"
        },
        "id": "3ogL78jFZdXS",
        "outputId": "5d733ee4-df3e-4e78-c6ae-94f5b89a4081"
      },
      "execution_count": 2,
      "outputs": [
        {
          "output_type": "stream",
          "name": "stdout",
          "text": [
            "Collecting captcha\n",
            "  Downloading captcha-0.7.1-py3-none-any.whl.metadata (2.2 kB)\n",
            "Requirement already satisfied: Pillow in /usr/local/lib/python3.11/dist-packages (from captcha) (11.3.0)\n",
            "Downloading captcha-0.7.1-py3-none-any.whl (147 kB)\n",
            "\u001b[?25l   \u001b[90m━━━━━━━━━━━━━━━━━━━━━━━━━━━━━━━━━━━━━━━━\u001b[0m \u001b[32m0.0/147.6 kB\u001b[0m \u001b[31m?\u001b[0m eta \u001b[36m-:--:--\u001b[0m\r\u001b[2K   \u001b[91m━━━━━━━━━━━━━━━━━━━━━━━━━━━━━━━━━━━━━━\u001b[0m\u001b[91m╸\u001b[0m\u001b[90m━\u001b[0m \u001b[32m143.4/147.6 kB\u001b[0m \u001b[31m4.1 MB/s\u001b[0m eta \u001b[36m0:00:01\u001b[0m\r\u001b[2K   \u001b[90m━━━━━━━━━━━━━━━━━━━━━━━━━━━━━━━━━━━━━━━━\u001b[0m \u001b[32m147.6/147.6 kB\u001b[0m \u001b[31m2.9 MB/s\u001b[0m eta \u001b[36m0:00:00\u001b[0m\n",
            "\u001b[?25hInstalling collected packages: captcha\n",
            "Successfully installed captcha-0.7.1\n"
          ]
        }
      ]
    },
    {
      "cell_type": "code",
      "execution_count": 94,
      "metadata": {
        "id": "u9oRw2y7Xbyw"
      },
      "outputs": [],
      "source": [
        "import string\n",
        "from captcha.image import ImageCaptcha\n",
        "import random\n",
        "import os\n",
        "from pathlib import Path\n",
        "from google.colab import drive\n",
        "from PIL import Image\n",
        "import matplotlib.pyplot as plt\n",
        "\n",
        "#drive.mount(\"/content/drive\")\n",
        "\n",
        "\n",
        "# !ls /content/drive/MyDrive/Colab/One\\ Number/\n",
        "dir_path = Path(\"/content/drive/MyDrive/Colab/One Number\")\n",
        "dir_path\n",
        "training_folder = dir_path / \"training\"\n",
        "testing_folder = dir_path / \"testing\"\n",
        "os.makedirs(training_folder, exist_ok = True)\n",
        "os.makedirs(testing_folder, exist_ok = True)\n",
        "\n"
      ]
    },
    {
      "cell_type": "code",
      "source": [
        "chars = string.digits\n",
        "\n",
        "img = ImageCaptcha(width = 120,\n",
        "                    height = 50)\n",
        "for i in range(int(1000*0.8)):\n",
        "  label = ''.join(random.choices(chars))\n",
        "  image = img.generate_image(label)\n",
        "  image.save(training_folder / f\"{label}_{i}.png\")\n",
        "\n",
        "for i in range(int(1000*0.2)):\n",
        "  label = ''.join(random.choices(chars))\n",
        "  image = img.generate_image(label)\n",
        "  image.save(testing_folder / f\"{label}_{i}.png\")\n",
        "print(f\"{len(os.listdir(os.path.join(training_folder)))} training images created\")\n",
        "print(f\"{len(os.listdir(os.path.join(testing_folder)))} testing images created\")"
      ],
      "metadata": {
        "colab": {
          "base_uri": "https://localhost:8080/"
        },
        "id": "-TFbt9t0aECs",
        "outputId": "15d3c693-094b-42f6-f4d3-8f5acb810850"
      },
      "execution_count": 40,
      "outputs": [
        {
          "output_type": "stream",
          "name": "stdout",
          "text": [
            "800 training images created\n",
            "200 testing images created\n"
          ]
        }
      ]
    },
    {
      "cell_type": "code",
      "source": [
        "#!rm -rf /content/drive/MyDrive/Colab/One Number/training/*\n",
        "#!rm -rf /content/drive/MyDrive/Colab/One Number/testing/*"
      ],
      "metadata": {
        "id": "tbjHSPftcrps"
      },
      "execution_count": 38,
      "outputs": []
    },
    {
      "cell_type": "markdown",
      "source": [],
      "metadata": {
        "id": "8ReEaQ3XeWvF"
      }
    },
    {
      "cell_type": "code",
      "source": [
        "print(len(os.listdir(training_folder)))\n",
        "print(f\"First 10 files: {os.listdir(training_folder)[:10]}\")\n",
        "print(len(os.listdir(testing_folder)))\n",
        "print(f\"First 10 files: {os.listdir(testing_folder)[:10]}\")"
      ],
      "metadata": {
        "colab": {
          "base_uri": "https://localhost:8080/"
        },
        "id": "POGc3JWjeBVl",
        "outputId": "76bdcd68-4ef0-46f7-a560-3431d41fa466"
      },
      "execution_count": 62,
      "outputs": [
        {
          "output_type": "stream",
          "name": "stdout",
          "text": [
            "800\n",
            "First 10 files: ['4_0.png', '1_1.png', '5_2.png', '7_3.png', '9_4.png', '9_5.png', '3_6.png', '5_7.png', '3_8.png', '3_9.png']\n",
            "200\n",
            "First 10 files: ['4_0.png', '0_1.png', '6_2.png', '9_3.png', '2_4.png', '7_5.png', '4_6.png', '7_7.png', '3_8.png', '7_9.png']\n"
          ]
        }
      ]
    },
    {
      "cell_type": "code",
      "source": [
        "def ShowImage(image_path):\n",
        "  image = Image.open(image_path)\n",
        "  plt.imshow(image)\n",
        "  plt.axis(\"off\")\n",
        "  plt.show()"
      ],
      "metadata": {
        "id": "I1D3TrJnf8Oe"
      },
      "execution_count": 96,
      "outputs": []
    },
    {
      "cell_type": "code",
      "source": [
        "ShowImage(training_folder / os.listdir(training_folder)[3])\n",
        "ShowImage(testing_folder / os.listdir(testing_folder)[3])"
      ],
      "metadata": {
        "colab": {
          "base_uri": "https://localhost:8080/",
          "height": 469
        },
        "id": "bg179W2Xfie3",
        "outputId": "bff3d5f1-4eaa-4793-cbce-b471e01772a9"
      },
      "execution_count": 101,
      "outputs": [
        {
          "output_type": "display_data",
          "data": {
            "text/plain": [
              "<Figure size 640x480 with 1 Axes>"
            ],
            "image/png": "[encoded data removed]"
          },
          "metadata": {}
        },
        {
          "output_type": "display_data",
          "data": {
            "text/plain": [
              "<Figure size 640x480 with 1 Axes>"
            ],
            "image/png": "[encoded data removed]"
          },
          "metadata": {}
        }
      ]
    },
    {
      "cell_type": "code",
      "source": [],
      "metadata": {
        "id": "mcfCwyA0f27l"
      },
      "execution_count": null,
      "outputs": []
    }
  ]
}