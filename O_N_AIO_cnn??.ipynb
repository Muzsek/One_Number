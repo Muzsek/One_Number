{
  "nbformat": 4,
  "nbformat_minor": 0,
  "metadata": {
    "colab": {
      "provenance": [],
      "authorship_tag": "ABX9TyOvhsBuvqn0pL8qJEDNqO91",
      "include_colab_link": true
    },
    "kernelspec": {
      "name": "python3",
      "display_name": "Python 3"
    },
    "language_info": {
      "name": "python"
    }
  },
  "cells": [
    {
      "cell_type": "markdown",
      "metadata": {
        "id": "view-in-github",
        "colab_type": "text"
      },
      "source": [
        "<a href=\"https://colab.research.google.com/github/Muzsek/One_Number/blob/main/O_N_AIO_cnn%3F%3F.ipynb\" target=\"_parent\"><img src=\"https://colab.research.google.com/assets/colab-badge.svg\" alt=\"Open In Colab\"/></a>"
      ]
    },
    {
      "cell_type": "code",
      "source": [
        "!pip install captcha"
      ],
      "metadata": {
        "colab": {
          "base_uri": "https://localhost:8080/"
        },
        "id": "3ogL78jFZdXS",
        "outputId": "21d2bb6a-1aab-4cb2-e9ed-6bab273a5243"
      },
      "execution_count": 2,
      "outputs": [
        {
          "output_type": "stream",
          "name": "stdout",
          "text": [
            "Collecting captcha\n",
            "  Downloading captcha-0.7.1-py3-none-any.whl.metadata (2.2 kB)\n",
            "Requirement already satisfied: Pillow in /usr/local/lib/python3.11/dist-packages (from captcha) (11.3.0)\n",
            "Downloading captcha-0.7.1-py3-none-any.whl (147 kB)\n",
            "\u001b[?25l   \u001b[90m━━━━━━━━━━━━━━━━━━━━━━━━━━━━━━━━━━━━━━━━\u001b[0m \u001b[32m0.0/147.6 kB\u001b[0m \u001b[31m?\u001b[0m eta \u001b[36m-:--:--\u001b[0m\r\u001b[2K   \u001b[90m━━━━━━━━━━━━━━━━━━━━━━━━━━━━━━━━━━━━━━━━\u001b[0m \u001b[32m147.6/147.6 kB\u001b[0m \u001b[31m9.2 MB/s\u001b[0m eta \u001b[36m0:00:00\u001b[0m\n",
            "\u001b[?25hInstalling collected packages: captcha\n",
            "Successfully installed captcha-0.7.1\n"
          ]
        }
      ]
    },
    {
      "cell_type": "code",
      "source": [
        "import string\n",
        "from captcha.image import ImageCaptcha\n",
        "import random\n",
        "import os\n",
        "from pathlib import Path\n",
        "from google.colab import drive\n",
        "from PIL import Image\n",
        "import matplotlib.pyplot as plt\n",
        "import torch\n",
        "from torchvision import transforms\n",
        "from torch.utils.data import Dataset\n",
        "from torch.utils.data import DataLoader\n",
        "from torch import nn"
      ],
      "metadata": {
        "id": "TSPCW7SB8p2D"
      },
      "execution_count": 126,
      "outputs": []
    },
    {
      "cell_type": "code",
      "source": [
        "drive.mount(\"/content/drive\")"
      ],
      "metadata": {
        "id": "EiYTR6dB8sj-"
      },
      "execution_count": null,
      "outputs": []
    },
    {
      "cell_type": "code",
      "execution_count": 19,
      "metadata": {
        "id": "u9oRw2y7Xbyw"
      },
      "outputs": [],
      "source": [
        "# !ls /content/drive/MyDrive/Colab/One\\ Number/\n",
        "dir_path = Path(\"/content/drive/MyDrive/Colab/One Number\")\n",
        "dir_path\n",
        "training_folder = dir_path / \"training\"\n",
        "testing_folder = dir_path / \"testing\"\n",
        "os.makedirs(training_folder, exist_ok = True)\n",
        "os.makedirs(testing_folder, exist_ok = True)"
      ]
    },
    {
      "cell_type": "code",
      "source": [
        "chars = string.digits\n",
        "\n",
        "img = ImageCaptcha(width = 120,\n",
        "                    height = 50)\n",
        "for i in range(int(1000*0.8)):\n",
        "  label = ''.join(random.choices(chars))\n",
        "  image = img.generate_image(label)\n",
        "  image.save(training_folder / f\"{label}_{i}.png\")\n",
        "\n",
        "for i in range(int(1000*0.2)):\n",
        "  label = ''.join(random.choices(chars))\n",
        "  image = img.generate_image(label)\n",
        "  image.save(testing_folder / f\"{label}_{i}.png\")\n",
        "print(f\"{len(os.listdir(os.path.join(training_folder)))} training images created\")\n",
        "print(f\"{len(os.listdir(os.path.join(testing_folder)))} testing images created\")"
      ],
      "metadata": {
        "colab": {
          "base_uri": "https://localhost:8080/"
        },
        "id": "-TFbt9t0aECs",
        "outputId": "15d3c693-094b-42f6-f4d3-8f5acb810850"
      },
      "execution_count": null,
      "outputs": [
        {
          "output_type": "stream",
          "name": "stdout",
          "text": [
            "800 training images created\n",
            "200 testing images created\n"
          ]
        }
      ]
    },
    {
      "cell_type": "code",
      "source": [
        "#!rm -rf /content/drive/MyDrive/Colab/One Number/training/*\n",
        "#!rm -rf /content/drive/MyDrive/Colab/One Number/testing/*"
      ],
      "metadata": {
        "id": "tbjHSPftcrps"
      },
      "execution_count": null,
      "outputs": []
    },
    {
      "cell_type": "markdown",
      "source": [],
      "metadata": {
        "id": "8ReEaQ3XeWvF"
      }
    },
    {
      "cell_type": "code",
      "source": [
        "print(len(os.listdir(training_folder)))\n",
        "print(f\"First 10 files: {os.listdir(training_folder)[:10]}\")\n",
        "print(len(os.listdir(testing_folder)))\n",
        "print(f\"First 10 files: {os.listdir(testing_folder)[:10]}\")"
      ],
      "metadata": {
        "colab": {
          "base_uri": "https://localhost:8080/"
        },
        "id": "POGc3JWjeBVl",
        "outputId": "66dc0dd4-a78c-4f22-b1e0-4e95b1578458"
      },
      "execution_count": 4,
      "outputs": [
        {
          "output_type": "stream",
          "name": "stdout",
          "text": [
            "800\n",
            "First 10 files: ['4_0.png', '1_1.png', '5_2.png', '7_3.png', '9_4.png', '9_5.png', '3_6.png', '5_7.png', '3_8.png', '3_9.png']\n",
            "200\n",
            "First 10 files: ['4_0.png', '0_1.png', '6_2.png', '9_3.png', '2_4.png', '7_5.png', '4_6.png', '7_7.png', '3_8.png', '7_9.png']\n"
          ]
        }
      ]
    },
    {
      "cell_type": "code",
      "source": [
        "def ShowImage(image_path):\n",
        "  image = Image.open(image_path)\n",
        "  plt.imshow(image)\n",
        "  plt.axis(\"off\")\n",
        "  plt.show()"
      ],
      "metadata": {
        "id": "I1D3TrJnf8Oe"
      },
      "execution_count": 5,
      "outputs": []
    },
    {
      "cell_type": "code",
      "source": [
        "ShowImage(training_folder / os.listdir(training_folder)[3])\n",
        "ShowImage(testing_folder / os.listdir(testing_folder)[3])"
      ],
      "metadata": {
        "colab": {
          "base_uri": "https://localhost:8080/",
          "height": 469
        },
        "id": "bg179W2Xfie3",
        "outputId": "a6a72e89-7032-4361-bc6e-66ce85d49d60"
      },
      "execution_count": 6,
      "outputs": [
        {
          "output_type": "display_data",
          "data": {
            "text/plain": [
              "<Figure size 640x480 with 1 Axes>"
            ],
            "image/png": "[encoded data removed]"
          },
          "metadata": {}
        },
        {
          "output_type": "display_data",
          "data": {
            "text/plain": [
              "<Figure size 640x480 with 1 Axes>"
            ],
            "image/png": "[encoded data removed]"
          },
          "metadata": {}
        }
      ]
    },
    {
      "cell_type": "code",
      "source": [
        "# Making the first_image form PIL to a tensor\n",
        "first_image = Image.open(training_folder / os.listdir(training_folder)[0])\n",
        "first_image.size"
      ],
      "metadata": {
        "colab": {
          "base_uri": "https://localhost:8080/"
        },
        "id": "mcfCwyA0f27l",
        "outputId": "fb49cdf9-4e9c-47d1-87c5-75ca4efa015a"
      },
      "execution_count": 125,
      "outputs": [
        {
          "output_type": "execute_result",
          "data": {
            "text/plain": [
              "(120, 50)"
            ]
          },
          "metadata": {},
          "execution_count": 125
        }
      ]
    },
    {
      "cell_type": "code",
      "source": [
        "data_transform = transforms.Compose(\n",
        "    [\n",
        "        transforms.ToTensor()\n",
        "    ]\n",
        ")\n",
        "first_image_tensor = data_transform(first_image)\n",
        "first_image_tensor.shape"
      ],
      "metadata": {
        "colab": {
          "base_uri": "https://localhost:8080/"
        },
        "id": "sRM8bCMGjP91",
        "outputId": "86a43b71-ba28-4462-b54e-a9784e53d993"
      },
      "execution_count": 17,
      "outputs": [
        {
          "output_type": "execute_result",
          "data": {
            "text/plain": [
              "torch.Size([3, 50, 120])"
            ]
          },
          "metadata": {},
          "execution_count": 17
        }
      ]
    },
    {
      "cell_type": "code",
      "source": [
        "#os.listdir(training_folder)"
      ],
      "metadata": {
        "id": "4jgn4sUN_GHV"
      },
      "execution_count": 22,
      "outputs": []
    },
    {
      "cell_type": "code",
      "source": [
        "training_data = list(training_folder.glob(\"*.png\"))\n",
        "testing_data = list(testing_folder.glob(\"*.png\"))\n",
        "print(f\"{len(training_data)}\\n{len(testing_data)}\\n{training_data[:3]}\\n{testing_data[:3]}\")"
      ],
      "metadata": {
        "colab": {
          "base_uri": "https://localhost:8080/"
        },
        "id": "_Z9qAwDVFlAO",
        "outputId": "53060ab6-0d26-4369-feee-b06c79e99e1f"
      },
      "execution_count": 98,
      "outputs": [
        {
          "output_type": "stream",
          "name": "stdout",
          "text": [
            "800\n",
            "200\n",
            "[PosixPath('/content/drive/MyDrive/Colab/One Number/training/4_0.png'), PosixPath('/content/drive/MyDrive/Colab/One Number/training/1_1.png'), PosixPath('/content/drive/MyDrive/Colab/One Number/training/5_2.png')]\n",
            "[PosixPath('/content/drive/MyDrive/Colab/One Number/testing/4_0.png'), PosixPath('/content/drive/MyDrive/Colab/One Number/testing/0_1.png'), PosixPath('/content/drive/MyDrive/Colab/One Number/testing/6_2.png')]\n"
          ]
        }
      ]
    },
    {
      "cell_type": "code",
      "source": [
        "class CustomDataset(Dataset):\n",
        "  def __init__(self,image_paths,transform):\n",
        "    self.image_paths = image_paths\n",
        "    self.transform = transform\n",
        "\n",
        "  def __len__(self):\n",
        "    return len(self.image_paths)\n",
        "\n",
        "  def __getitem__(self, index):\n",
        "    image_paths = self.image_paths[index]\n",
        "    image = Image.open(image_paths).convert('RGB')\n",
        "    label_str = image_paths.stem.split(\"_\")[0]\n",
        "    label = int(label_str)\n",
        "    return self.transform(image),label"
      ],
      "metadata": {
        "id": "hzlEGoZ_lB42",
        "colab": {
          "base_uri": "https://localhost:8080/"
        },
        "outputId": "2e793195-45eb-499f-98b2-a3cb8427c1b7"
      },
      "execution_count": 94,
      "outputs": [
        {
          "output_type": "execute_result",
          "data": {
            "text/plain": [
              "4"
            ]
          },
          "metadata": {},
          "execution_count": 94
        }
      ]
    },
    {
      "cell_type": "code",
      "source": [
        "training_dataset = CustomDataset(training_data, transform = data_transform)\n",
        "testing_dataset = CustomDataset(testing_data, transform = data_transform)"
      ],
      "metadata": {
        "id": "6OrXIEeh_WKd"
      },
      "execution_count": 100,
      "outputs": []
    },
    {
      "cell_type": "code",
      "source": [
        "for _ in range(3):\n",
        "  print(training_dataset[_][1])\n",
        "print()\n",
        "for _ in range(3):\n",
        "  print(testing_dataset[_][1])"
      ],
      "metadata": {
        "colab": {
          "base_uri": "https://localhost:8080/"
        },
        "id": "TkLV4AI0J0dY",
        "outputId": "1bef42fc-9c31-4ea4-f7a3-f0b883972c91"
      },
      "execution_count": 109,
      "outputs": [
        {
          "output_type": "stream",
          "name": "stdout",
          "text": [
            "4\n",
            "1\n",
            "5\n",
            "\n",
            "4\n",
            "0\n",
            "6\n"
          ]
        }
      ]
    },
    {
      "cell_type": "code",
      "source": [
        "training_loader = DataLoader(training_dataset, batch_size = 32, shuffle = True)\n",
        "testing_loader = DataLoader(testing_dataset, batch_size = 32, shuffle = False)"
      ],
      "metadata": {
        "id": "J4M0rQfZJ1yu"
      },
      "execution_count": 113,
      "outputs": []
    },
    {
      "cell_type": "code",
      "source": [
        "dl_test_images, dl_test_labels = next(iter(training_loader))\n",
        "print(dl_test_images.shape)\n",
        "print(dl_test_labels.shape)\n",
        "dl_test_images, dl_test_labels = next(iter(testing_loader))\n",
        "print(dl_test_images.shape)\n",
        "print(dl_test_labels.shape)"
      ],
      "metadata": {
        "id": "iQG7pubPKse-",
        "colab": {
          "base_uri": "https://localhost:8080/"
        },
        "outputId": "f9d1762c-93c1-484d-de42-1cba3c49a407"
      },
      "execution_count": 117,
      "outputs": [
        {
          "output_type": "stream",
          "name": "stdout",
          "text": [
            "torch.Size([32, 3, 50, 120])\n",
            "torch.Size([32])\n",
            "torch.Size([32, 3, 50, 120])\n",
            "torch.Size([32])\n"
          ]
        }
      ]
    },
    {
      "cell_type": "code",
      "source": [
        "images, labels = next(iter(training_loader))\n",
        "print(\"Train label min/max:\", labels.min().item(), labels.max().item())\n",
        "images_t, labels_t = next(iter(testing_loader))\n",
        "print(\"Test label min/max:\", labels_t.min().item(), labels_t.max().item())"
      ],
      "metadata": {
        "colab": {
          "base_uri": "https://localhost:8080/"
        },
        "id": "AJScVBA8KyJz",
        "outputId": "da7941e3-3b99-49b2-bba5-cb214e0a5048"
      },
      "execution_count": 118,
      "outputs": [
        {
          "output_type": "stream",
          "name": "stdout",
          "text": [
            "Train label min/max: 0 9\n",
            "Test label min/max: 0 9\n"
          ]
        }
      ]
    },
    {
      "cell_type": "code",
      "source": [
        "num_classes = range(9)\n",
        "num_classes"
      ],
      "metadata": {
        "colab": {
          "base_uri": "https://localhost:8080/"
        },
        "id": "Rn1UEtwrkzox",
        "outputId": "8d203fbc-b96f-40b8-bfbe-59b117b157c2"
      },
      "execution_count": 153,
      "outputs": [
        {
          "output_type": "execute_result",
          "data": {
            "text/plain": [
              "range(0, 9)"
            ]
          },
          "metadata": {},
          "execution_count": 153
        }
      ]
    },
    {
      "cell_type": "code",
      "source": [
        "class CNN(nn.Module):\n",
        "  def __init__(self, in_channels: int, out_channels: int,output_shape: int):\n",
        "    super().__init__()\n",
        "\n",
        "    self.block_1 = nn.Sequential(\n",
        "        nn.Conv2d(in_channels = in_channels,\n",
        "                  out_channels = out_channels,\n",
        "                  kernel_size = 3,\n",
        "                  padding = 1,\n",
        "                  stride = 1),\n",
        "        nn.ReLU(),\n",
        "        nn.Conv2d(in_channels = out_channels,\n",
        "                  out_channels = out_channels,\n",
        "                  kernel_size = 3,\n",
        "                  padding = 1,\n",
        "                  stride = 1),\n",
        "        nn.ReLU(),\n",
        "        nn.MaxPool2d(kernel_size = 2,\n",
        "                     stride = 2)\n",
        "    )\n",
        "    self.block_2 = nn.Sequential(\n",
        "        nn.Conv2d(out_channels, out_channels, kernel_size=3, padding=1),\n",
        "        nn.ReLU(),\n",
        "        nn.Conv2d(out_channels, out_channels, kernel_size=3, padding=1),\n",
        "        nn.ReLU(),\n",
        "        nn.MaxPool2d(2)\n",
        "      )\n",
        "    self.classifier = nn.Sequential(\n",
        "        nn.Flatten(),\n",
        "          # Where did this in_features shape come from?\n",
        "          # It's because each layer of our network compresses and changes the shape of our input data.\n",
        "        nn.Linear(in_features=out_channels,\n",
        "                  out_features=num_classes)\n",
        "      )\n",
        "  def forward(self, x: torch.Tensor):\n",
        "      x = self.block_1(x)\n",
        "      print(x.shape)\n",
        "      x = self.block_2(x)\n",
        "      print(x.shape)\n",
        "      x = self.classifier(x)\n",
        "      print(x.shape)\n",
        "      return x\n",
        "\n",
        "\n",
        "model_0 = CNN(in_channels = 3,\n",
        "              out_channels = 10,\n",
        "              output_shape = num_classes)\n",
        "model_0"
      ],
      "metadata": {
        "colab": {
          "base_uri": "https://localhost:8080/",
          "height": 441
        },
        "id": "KuDmVsfLLxdH",
        "outputId": "58b914be-6f6f-4874-8394-3c10c70309ea"
      },
      "execution_count": 159,
      "outputs": [
        {
          "output_type": "error",
          "ename": "TypeError",
          "evalue": "empty() received an invalid combination of arguments - got (tuple, dtype=NoneType, device=NoneType), but expected one of:\n * (tuple of ints size, *, tuple of names names, torch.memory_format memory_format = None, torch.dtype dtype = None, torch.layout layout = None, torch.device device = None, bool pin_memory = False, bool requires_grad = False)\n * (tuple of ints size, *, torch.memory_format memory_format = None, Tensor out = None, torch.dtype dtype = None, torch.layout layout = None, torch.device device = None, bool pin_memory = False, bool requires_grad = False)\n",
          "traceback": [
            "\u001b[0;31m---------------------------------------------------------------------------\u001b[0m",
            "\u001b[0;31mTypeError\u001b[0m                                 Traceback (most recent call last)",
            "\u001b[0;32m/tmp/ipython-input-873425815.py\u001b[0m in \u001b[0;36m<cell line: 0>\u001b[0;34m()\u001b[0m\n\u001b[1;32m     43\u001b[0m \u001b[0;34m\u001b[0m\u001b[0m\n\u001b[1;32m     44\u001b[0m \u001b[0;34m\u001b[0m\u001b[0m\n\u001b[0;32m---> 45\u001b[0;31m model_0 = CNN(in_channels = 3,\n\u001b[0m\u001b[1;32m     46\u001b[0m               \u001b[0mout_channels\u001b[0m \u001b[0;34m=\u001b[0m \u001b[0;36m10\u001b[0m\u001b[0;34m,\u001b[0m\u001b[0;34m\u001b[0m\u001b[0;34m\u001b[0m\u001b[0m\n\u001b[1;32m     47\u001b[0m               output_shape = num_classes)\n",
            "\u001b[0;32m/tmp/ipython-input-873425815.py\u001b[0m in \u001b[0;36m__init__\u001b[0;34m(self, in_channels, out_channels, output_shape)\u001b[0m\n\u001b[1;32m     30\u001b[0m           \u001b[0;31m# Where did this in_features shape come from?\u001b[0m\u001b[0;34m\u001b[0m\u001b[0;34m\u001b[0m\u001b[0m\n\u001b[1;32m     31\u001b[0m           \u001b[0;31m# It's because each layer of our network compresses and changes the shape of our input data.\u001b[0m\u001b[0;34m\u001b[0m\u001b[0;34m\u001b[0m\u001b[0m\n\u001b[0;32m---> 32\u001b[0;31m         nn.Linear(in_features=out_channels,\n\u001b[0m\u001b[1;32m     33\u001b[0m                   out_features=num_classes)\n\u001b[1;32m     34\u001b[0m       )\n",
            "\u001b[0;32m/usr/local/lib/python3.11/dist-packages/torch/nn/modules/linear.py\u001b[0m in \u001b[0;36m__init__\u001b[0;34m(self, in_features, out_features, bias, device, dtype)\u001b[0m\n\u001b[1;32m    104\u001b[0m         \u001b[0mself\u001b[0m\u001b[0;34m.\u001b[0m\u001b[0mout_features\u001b[0m \u001b[0;34m=\u001b[0m \u001b[0mout_features\u001b[0m\u001b[0;34m\u001b[0m\u001b[0;34m\u001b[0m\u001b[0m\n\u001b[1;32m    105\u001b[0m         self.weight = Parameter(\n\u001b[0;32m--> 106\u001b[0;31m             \u001b[0mtorch\u001b[0m\u001b[0;34m.\u001b[0m\u001b[0mempty\u001b[0m\u001b[0;34m(\u001b[0m\u001b[0;34m(\u001b[0m\u001b[0mout_features\u001b[0m\u001b[0;34m,\u001b[0m \u001b[0min_features\u001b[0m\u001b[0;34m)\u001b[0m\u001b[0;34m,\u001b[0m \u001b[0;34m**\u001b[0m\u001b[0mfactory_kwargs\u001b[0m\u001b[0;34m)\u001b[0m\u001b[0;34m\u001b[0m\u001b[0;34m\u001b[0m\u001b[0m\n\u001b[0m\u001b[1;32m    107\u001b[0m         )\n\u001b[1;32m    108\u001b[0m         \u001b[0;32mif\u001b[0m \u001b[0mbias\u001b[0m\u001b[0;34m:\u001b[0m\u001b[0;34m\u001b[0m\u001b[0;34m\u001b[0m\u001b[0m\n",
            "\u001b[0;31mTypeError\u001b[0m: empty() received an invalid combination of arguments - got (tuple, dtype=NoneType, device=NoneType), but expected one of:\n * (tuple of ints size, *, tuple of names names, torch.memory_format memory_format = None, torch.dtype dtype = None, torch.layout layout = None, torch.device device = None, bool pin_memory = False, bool requires_grad = False)\n * (tuple of ints size, *, torch.memory_format memory_format = None, Tensor out = None, torch.dtype dtype = None, torch.layout layout = None, torch.device device = None, bool pin_memory = False, bool requires_grad = False)\n"
          ]
        }
      ]
    },
    {
      "cell_type": "code",
      "source": [
        "img_batch, label_batch = next(iter(training_loader))\n",
        "# 2. Get a single image from the batch and unsqueeze the image so its shape fits the model\n",
        "img_single, label_single = img_batch[0].unsqueeze(dim=0), label_batch[0]\n",
        "print(f\"Single image shape: {img_single.shape}\\n\")\n",
        "\n",
        "model_0.eval()\n",
        "with torch.inference_mode():\n",
        "    pred = model_0(img_single)"
      ],
      "metadata": {
        "colab": {
          "base_uri": "https://localhost:8080/"
        },
        "id": "L7QTHVIHkmHH",
        "outputId": "b63258b0-41c4-472b-e6ba-37c4ab7d8f05"
      },
      "execution_count": 151,
      "outputs": [
        {
          "output_type": "stream",
          "name": "stdout",
          "text": [
            "Single image shape: torch.Size([1, 3, 50, 120])\n",
            "\n",
            "torch.Size([1, 10, 25, 60])\n",
            "torch.Size([1, 10, 12, 30])\n",
            "torch.Size([1, 3])\n"
          ]
        }
      ]
    },
    {
      "cell_type": "code",
      "source": [],
      "metadata": {
        "id": "3j6UivFamUl6"
      },
      "execution_count": null,
      "outputs": []
    }
  ]
}